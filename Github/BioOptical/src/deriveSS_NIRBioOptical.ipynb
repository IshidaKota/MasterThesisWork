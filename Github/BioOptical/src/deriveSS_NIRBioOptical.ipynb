{
 "cells": [
  {
   "cell_type": "markdown",
   "metadata": {},
   "source": [
    "# NIRの波長からTSMの濃度を求める"
   ]
  },
  {
   "cell_type": "markdown",
   "metadata": {},
   "source": [
    "### パラメータの説明"
   ]
  },
  {
   "cell_type": "markdown",
   "metadata": {},
   "source": [
    "|Rrs(L)|衛星から観測した反射率\n",
    "|Fre|フレネルの式、入射光に対する反射光の強さを表す\n",
    "|bb_to_b|backscatteringのscatteringに対する割合|\n",
    "|"
   ]
  },
  {
   "cell_type": "markdown",
   "metadata": {},
   "source": [
    "### コード"
   ]
  },
  {
   "cell_type": "code",
   "execution_count": null,
   "metadata": {},
   "outputs": [],
   "source": [
    "### \n",
    "def derive_Tbb(bb_Ratio,sbb,cTSM):\n",
    "    \"\"\"\n",
    "    \n",
    "    \"\"\"\n",
    "    return bb_Ratio*sbb*cTSM\n",
    "\n",
    "def derive_Rrs_0minus(aw,bw,bbTSM):\n",
    "    return (bw+bbTSM)/(aw+bw+bbTSM)\n"
   ]
  }
 ],
 "metadata": {
  "language_info": {
   "name": "python"
  }
 },
 "nbformat": 4,
 "nbformat_minor": 2
}
