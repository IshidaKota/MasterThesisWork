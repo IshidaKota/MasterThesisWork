{
 "cells": [
  {
   "cell_type": "markdown",
   "metadata": {},
   "source": [
    "# NIRの波長からTSMの濃度を求める"
   ]
  },
  {
   "cell_type": "markdown",
   "metadata": {},
   "source": [
    "### パラメータの説明"
   ]
  },
  {
   "cell_type": "markdown",
   "metadata": {},
   "source": [
    "|Rrs(L)|衛星から観測した反射率\n",
    "|Fre|フレネルの式、入射光に対する反射光の強さを表す\n",
    "|bb_to_b|backscatteringのscatteringに対する割合|\n",
    "|"
   ]
  },
  {
   "cell_type": "code",
   "execution_count": 2,
   "metadata": {},
   "outputs": [],
   "source": [
    "from scipy import integrate\n",
    "import numpy as np\n",
    "import matplotlib.pyplot as plt\n",
    "from bhmie import bhmie\n",
    "import miepython"
   ]
  },
  {
   "cell_type": "markdown",
   "metadata": {},
   "source": [
    "### パラメータ"
   ]
  },
  {
   "cell_type": "code",
   "execution_count": 6,
   "metadata": {},
   "outputs": [
    {
     "name": "stdout",
     "output_type": "stream",
     "text": [
      "1.161149825783972\n"
     ]
    }
   ],
   "source": [
    "#-----------------------------#\n",
    "#     Set Parameters          #\n",
    "#-----------------------------#\n",
    "aw = [2.38,2.36 ] #/m Raymond C. Smith and Karen S. Baker 1981\n",
    "bw = [0.0006,0.0004]#/m\n",
    "nw = 1.333 #dimensionless\n",
    "def n_prime(Lambda,coef1=0.010658,coef2=-0.007186):\n",
    "    return 0.010658*np.exp(-0.007186*Lambda)\n",
    "m = nw/1.148 #quartz\n",
    "print(m)\n",
    "dmin = 0.01*1e-6 #m\n",
    "dmax = 100*1e-6  #m\n",
    "pho = 2.65*1e6 #density of Quartz (g/m3)"
   ]
  },
  {
   "cell_type": "markdown",
   "metadata": {},
   "source": [
    "### コード"
   ]
  },
  {
   "cell_type": "code",
   "execution_count": 11,
   "metadata": {},
   "outputs": [],
   "source": [
    "def approximate_qbb_polynomial(m,order=40):\n",
    "    def qbb(m,x):\n",
    "        def scattering_for_eachAngle(theta):\n",
    "            cos = np.cos(np.radians(theta))\n",
    "            sin = np.sin(np.radians(theta))\n",
    "            S1,S2 = miepython.mie_S1_S2(m,x,cos,norm=\"wiscombe\")\n",
    "            i1 = abs(S1) ** 2\n",
    "            i2 = abs(S2) ** 2\n",
    "            I  = i1+i2\n",
    "            return I*sin\n",
    "        integrated,err = integrate.quad(scattering_for_eachAngle,90,180)\n",
    "\n",
    "        return integrated/(x**2)\n",
    "    \n",
    "    x=np.logspace(-2,4,1000)\n",
    "    qbb_cal = np.array([qbb(m,x) for x in x])\n",
    "\n",
    "    logx = np.log10(x)\n",
    "    reg = np.polyfit(logx,qbb_cal,order)\n",
    "\n",
    "    print(\"Regression finish.\")\n",
    "    \n",
    "    return reg"
   ]
  },
  {
   "cell_type": "markdown",
   "metadata": {},
   "source": [
    "### 便宜的に最初だけここにコードを置く"
   ]
  },
  {
   "cell_type": "code",
   "execution_count": 17,
   "metadata": {},
   "outputs": [],
   "source": [
    "def PSD(D,j,K=1):\n",
    "    \"\"\"\n",
    "    particle size distribution(PSD) N(D) = K*D^-j\n",
    "    D: diameter of the particle\n",
    "    j: parameter1\n",
    "    K(optional): parameter2\n",
    "    \"\"\"\n",
    "    return K * (D*1e6) ** (-j)\n",
    "# def Qbb(D,Lambda,m):\n",
    "\n",
    "#     x = 2 * np.pi * (D *1e-6)/ Lambda\n",
    "#     s1,s2,qext,qsca,qback,gsca = bhmie(x,m,100)\n",
    "\n",
    "#     return qback\n",
    "# def Cbb(Lambda,m,j,dmin,dmax):\n",
    "#     def numerator(D):\n",
    "#         Q_bb = Qbb(D,Lambda,m)\n",
    "#         ND = PSD(D,j)\n",
    "#         return Q_bb * np.pi * D**2 * ND /4\n",
    "    \n",
    "#     def denominator(D):\n",
    "#         ND = PSD(D,j)\n",
    "#         return ND\n",
    "#     print(\"I came\")\n",
    "#     integrated_numerator,err_numerator = integrate.quad(numerator,dmin,dmax)\n",
    "#     print(\"You must come with me\")\n",
    "#     intergrated_denominator,err_denominator = integrate.quad(denominator,dmin,dmax)\n",
    "#     print(f\"Cbb = {integrated_numerator/intergrated_denominator}\")\n",
    "#     return integrated_numerator/intergrated_denominator\n",
    "def Cbb(Lambda,reg,m,j,dmin,dmax):\n",
    "    def numerator(D):\n",
    "        x = 2 * np.pi * (D)/ (Lambda*1e-9)\n",
    "        #qext, qsca, qback, g = miepython.mie(m,x)\n",
    "        #s1,s2,qext,qsca,,gsca = bhmie(x,m,45)\n",
    "        qbb = np.polyval(reg,np.log10(x))\n",
    "        ND = PSD(D,j)\n",
    "        return qbb * np.pi * D**2 * ND /4\n",
    "    \n",
    "    def denominator(D):\n",
    "        ND = PSD(D,j)\n",
    "        return ND\n",
    "    integrated_numerator,err_numerator = integrate.quad(numerator,dmin,dmax)\n",
    "    #nd = 100\n",
    "    #Drange = np.linspace(dmin,dmax,nd)\n",
    "    #Dseries = [numerator(D) for D in Drange]\n",
    "    #integrated_numerator =sum(Dseries) *(dmax-dmin)/nd\n",
    "    #print(f\"numerator={integrated_numerator}\")\n",
    "    integrated_denominator,err_denominator = integrate.quad(denominator,dmin,dmax)\n",
    "    #integrated_denominator = (dmax**(1-j) - dmin**(1-j))/(1-j)\n",
    "    #print(f\"Cbb = {integrated_numerator/integrated_denominator}\")\n",
    "    return integrated_numerator/integrated_denominator\n",
    "def G(j,dmin,dmax):\n",
    "    def numerator(D):\n",
    "        ND = PSD(D,j)\n",
    "        return ND * (D **2)\n",
    "    \n",
    "    def denominator(D):\n",
    "        ND = PSD(D,j)\n",
    "        return ND\n",
    "    \n",
    "    integrated_numerator,err_numerator = integrate.quad(numerator,dmin,dmax)\n",
    "    integrated_denominator,err_denominator = integrate.quad(denominator,dmin,dmax)\n",
    "    #print(f\"分子={integrated_numerator},分母={integrated_denominator}\")\n",
    "    # if j - 3.0 < 1e-3:\n",
    "    #     integrated_numerator =  (dmax**(1-j+2) - dmin**(1-j+2))/(1-j+2)\n",
    "    # else:\n",
    "    #     integrated_numerator = dmax-dmin\n",
    "    #integrated_denominator = (dmax**(1-j) - dmin**(1-j))/(1-j)\n",
    "    return np.pi*integrated_numerator/integrated_denominator/4\n",
    "def bbp_SIOP(Lambda,reg,j,m,pho,dmin,dmax):\n",
    "    m = m - n_prime(Lambda)*1j\n",
    "    #print(f\"WaveLength = {Lambda},refractiveIndex={m}\")\n",
    "    #print(G(j,dmin,dmax))\n",
    "    Qbb_ave = Cbb(Lambda,reg,m,j,dmin,dmax)/G(j,dmin,dmax)\n",
    "    #print(f\"Qbb_ave={Qbb_ave}\")\n",
    "    def numerator(D):\n",
    "        ND = PSD(D,j)\n",
    "        return ND * (D **2)\n",
    "    \n",
    "    def denominator(D):\n",
    "        ND = PSD(D,j)\n",
    "        return ND * (D **3)\n",
    "    \n",
    "    integrated_numerator,err_numerator = integrate.quad(numerator,dmin,dmax)\n",
    "    intergrated_denominator,err_denominator = integrate.quad(denominator,dmin,dmax) \n",
    "    #print(f\"分子={integrated_numerator},分母={intergrated_denominator}\")\n",
    "    return 3 * Qbb_ave * integrated_numerator / (2 * pho * intergrated_denominator)  \n"
   ]
  },
  {
   "cell_type": "code",
   "execution_count": 10,
   "metadata": {},
   "outputs": [
    {
     "name": "stderr",
     "output_type": "stream",
     "text": [
      "/tmp/ipykernel_2356873/1569894960.py:11: IntegrationWarning: The maximum number of subdivisions (50) has been achieved.\n",
      "  If increasing the limit yields no improvement it is advised to analyze \n",
      "  the integrand in order to determine the difficulties.  If the position of a \n",
      "  local difficulty can be determined (singularity, discontinuity) one will \n",
      "  probably gain from splitting up the interval and calling the integrator \n",
      "  on the subranges.  Perhaps a special-purpose integrator should be used.\n",
      "  integrated,err = integrate.quad(scattering_for_eachAngle,90,180)\n"
     ]
    },
    {
     "ename": "SystemError",
     "evalue": "CPUDispatcher(<function _mie_S1_S2 at 0x7f6e94ae8cc0>) returned a result with an exception set",
     "output_type": "error",
     "traceback": [
      "\u001b[0;31m---------------------------------------------------------------------------\u001b[0m",
      "\u001b[0;31mKeyboardInterrupt\u001b[0m                         Traceback (most recent call last)",
      "File \u001b[0;32m~/miniconda3/envs/jupyter/lib/python3.11/site-packages/numba/core/serialize.py:30\u001b[0m, in \u001b[0;36m_numba_unpickle\u001b[0;34m(address, bytedata, hashed)\u001b[0m\n\u001b[1;32m     27\u001b[0m _unpickled_memo \u001b[38;5;241m=\u001b[39m {}\n\u001b[0;32m---> 30\u001b[0m \u001b[38;5;28;01mdef\u001b[39;00m \u001b[38;5;21m_numba_unpickle\u001b[39m(address, bytedata, hashed):\n\u001b[1;32m     31\u001b[0m \u001b[38;5;250m    \u001b[39m\u001b[38;5;124;03m\"\"\"Used by `numba_unpickle` from _helperlib.c\u001b[39;00m\n\u001b[1;32m     32\u001b[0m \n\u001b[1;32m     33\u001b[0m \u001b[38;5;124;03m    Parameters\u001b[39;00m\n\u001b[0;32m   (...)\u001b[0m\n\u001b[1;32m     42\u001b[0m \u001b[38;5;124;03m        unpickled object\u001b[39;00m\n\u001b[1;32m     43\u001b[0m \u001b[38;5;124;03m    \"\"\"\u001b[39;00m\n",
      "\u001b[0;31mKeyboardInterrupt\u001b[0m: ",
      "\nThe above exception was the direct cause of the following exception:\n",
      "\u001b[0;31mSystemError\u001b[0m                               Traceback (most recent call last)",
      "\u001b[0;31mSystemError\u001b[0m: <function _numba_unpickle at 0x7f6e95b205e0> returned a result with an exception set",
      "\nThe above exception was the direct cause of the following exception:\n",
      "\u001b[0;31mSystemError\u001b[0m                               Traceback (most recent call last)",
      "Cell \u001b[0;32mIn[10], line 3\u001b[0m\n\u001b[1;32m      1\u001b[0m Lambda\u001b[38;5;241m=\u001b[39m\u001b[38;5;241m500\u001b[39m\n\u001b[1;32m      2\u001b[0m j\u001b[38;5;241m=\u001b[39m\u001b[38;5;241m-\u001b[39m\u001b[38;5;241m4\u001b[39m\n\u001b[0;32m----> 3\u001b[0m reg \u001b[38;5;241m=\u001b[39m \u001b[43mapproximate_qbb_polynomial\u001b[49m\u001b[43m(\u001b[49m\u001b[43mm\u001b[49m\u001b[43m,\u001b[49m\u001b[43morder\u001b[49m\u001b[38;5;241;43m=\u001b[39;49m\u001b[38;5;241;43m40\u001b[39;49m\u001b[43m)\u001b[49m\n\u001b[1;32m      4\u001b[0m bbp_SIOP(Lambda,reg,j,m,pho,dmin,dmax)\n",
      "Cell \u001b[0;32mIn[7], line 16\u001b[0m, in \u001b[0;36mapproximate_qbb_polynomial\u001b[0;34m(m, order)\u001b[0m\n\u001b[1;32m     13\u001b[0m     \u001b[38;5;28;01mreturn\u001b[39;00m integrated\u001b[38;5;241m/\u001b[39m(x\u001b[38;5;241m*\u001b[39m\u001b[38;5;241m*\u001b[39m\u001b[38;5;241m2\u001b[39m)\n\u001b[1;32m     15\u001b[0m x\u001b[38;5;241m=\u001b[39mnp\u001b[38;5;241m.\u001b[39mlogspace(\u001b[38;5;241m-\u001b[39m\u001b[38;5;241m2\u001b[39m,\u001b[38;5;241m4\u001b[39m,\u001b[38;5;241m1000\u001b[39m)\n\u001b[0;32m---> 16\u001b[0m qbb_cal \u001b[38;5;241m=\u001b[39m np\u001b[38;5;241m.\u001b[39marray(\u001b[43m[\u001b[49m\u001b[43mqbb\u001b[49m\u001b[43m(\u001b[49m\u001b[43mm\u001b[49m\u001b[43m,\u001b[49m\u001b[43mx\u001b[49m\u001b[43m)\u001b[49m\u001b[43m \u001b[49m\u001b[38;5;28;43;01mfor\u001b[39;49;00m\u001b[43m \u001b[49m\u001b[43mx\u001b[49m\u001b[43m \u001b[49m\u001b[38;5;129;43;01min\u001b[39;49;00m\u001b[43m \u001b[49m\u001b[43mx\u001b[49m\u001b[43m]\u001b[49m)\n\u001b[1;32m     18\u001b[0m logx \u001b[38;5;241m=\u001b[39m np\u001b[38;5;241m.\u001b[39mlog10(x)\n\u001b[1;32m     19\u001b[0m reg \u001b[38;5;241m=\u001b[39m np\u001b[38;5;241m.\u001b[39mpolyfit(logx,qbb_cal,order)\n",
      "Cell \u001b[0;32mIn[7], line 16\u001b[0m, in \u001b[0;36m<listcomp>\u001b[0;34m(.0)\u001b[0m\n\u001b[1;32m     13\u001b[0m     \u001b[38;5;28;01mreturn\u001b[39;00m integrated\u001b[38;5;241m/\u001b[39m(x\u001b[38;5;241m*\u001b[39m\u001b[38;5;241m*\u001b[39m\u001b[38;5;241m2\u001b[39m)\n\u001b[1;32m     15\u001b[0m x\u001b[38;5;241m=\u001b[39mnp\u001b[38;5;241m.\u001b[39mlogspace(\u001b[38;5;241m-\u001b[39m\u001b[38;5;241m2\u001b[39m,\u001b[38;5;241m4\u001b[39m,\u001b[38;5;241m1000\u001b[39m)\n\u001b[0;32m---> 16\u001b[0m qbb_cal \u001b[38;5;241m=\u001b[39m np\u001b[38;5;241m.\u001b[39marray([\u001b[43mqbb\u001b[49m\u001b[43m(\u001b[49m\u001b[43mm\u001b[49m\u001b[43m,\u001b[49m\u001b[43mx\u001b[49m\u001b[43m)\u001b[49m \u001b[38;5;28;01mfor\u001b[39;00m x \u001b[38;5;129;01min\u001b[39;00m x])\n\u001b[1;32m     18\u001b[0m logx \u001b[38;5;241m=\u001b[39m np\u001b[38;5;241m.\u001b[39mlog10(x)\n\u001b[1;32m     19\u001b[0m reg \u001b[38;5;241m=\u001b[39m np\u001b[38;5;241m.\u001b[39mpolyfit(logx,qbb_cal,order)\n",
      "Cell \u001b[0;32mIn[7], line 11\u001b[0m, in \u001b[0;36mapproximate_qbb_polynomial.<locals>.qbb\u001b[0;34m(m, x)\u001b[0m\n\u001b[1;32m      9\u001b[0m     I  \u001b[38;5;241m=\u001b[39m i1\u001b[38;5;241m+\u001b[39mi2\n\u001b[1;32m     10\u001b[0m     \u001b[38;5;28;01mreturn\u001b[39;00m I\u001b[38;5;241m*\u001b[39msin\n\u001b[0;32m---> 11\u001b[0m integrated,err \u001b[38;5;241m=\u001b[39m \u001b[43mintegrate\u001b[49m\u001b[38;5;241;43m.\u001b[39;49m\u001b[43mquad\u001b[49m\u001b[43m(\u001b[49m\u001b[43mscattering_for_eachAngle\u001b[49m\u001b[43m,\u001b[49m\u001b[38;5;241;43m90\u001b[39;49m\u001b[43m,\u001b[49m\u001b[38;5;241;43m180\u001b[39;49m\u001b[43m)\u001b[49m\n\u001b[1;32m     13\u001b[0m \u001b[38;5;28;01mreturn\u001b[39;00m integrated\u001b[38;5;241m/\u001b[39m(x\u001b[38;5;241m*\u001b[39m\u001b[38;5;241m*\u001b[39m\u001b[38;5;241m2\u001b[39m)\n",
      "File \u001b[0;32m~/miniconda3/envs/jupyter/lib/python3.11/site-packages/scipy/integrate/_quadpack_py.py:465\u001b[0m, in \u001b[0;36mquad\u001b[0;34m(func, a, b, args, full_output, epsabs, epsrel, limit, points, weight, wvar, wopts, maxp1, limlst, complex_func)\u001b[0m\n\u001b[1;32m    462\u001b[0m     \u001b[38;5;28;01mreturn\u001b[39;00m retval\n\u001b[1;32m    464\u001b[0m \u001b[38;5;28;01mif\u001b[39;00m weight \u001b[38;5;129;01mis\u001b[39;00m \u001b[38;5;28;01mNone\u001b[39;00m:\n\u001b[0;32m--> 465\u001b[0m     retval \u001b[38;5;241m=\u001b[39m \u001b[43m_quad\u001b[49m\u001b[43m(\u001b[49m\u001b[43mfunc\u001b[49m\u001b[43m,\u001b[49m\u001b[43m \u001b[49m\u001b[43ma\u001b[49m\u001b[43m,\u001b[49m\u001b[43m \u001b[49m\u001b[43mb\u001b[49m\u001b[43m,\u001b[49m\u001b[43m \u001b[49m\u001b[43margs\u001b[49m\u001b[43m,\u001b[49m\u001b[43m \u001b[49m\u001b[43mfull_output\u001b[49m\u001b[43m,\u001b[49m\u001b[43m \u001b[49m\u001b[43mepsabs\u001b[49m\u001b[43m,\u001b[49m\u001b[43m \u001b[49m\u001b[43mepsrel\u001b[49m\u001b[43m,\u001b[49m\u001b[43m \u001b[49m\u001b[43mlimit\u001b[49m\u001b[43m,\u001b[49m\n\u001b[1;32m    466\u001b[0m \u001b[43m                   \u001b[49m\u001b[43mpoints\u001b[49m\u001b[43m)\u001b[49m\n\u001b[1;32m    467\u001b[0m \u001b[38;5;28;01melse\u001b[39;00m:\n\u001b[1;32m    468\u001b[0m     \u001b[38;5;28;01mif\u001b[39;00m points \u001b[38;5;129;01mis\u001b[39;00m \u001b[38;5;129;01mnot\u001b[39;00m \u001b[38;5;28;01mNone\u001b[39;00m:\n",
      "File \u001b[0;32m~/miniconda3/envs/jupyter/lib/python3.11/site-packages/scipy/integrate/_quadpack_py.py:577\u001b[0m, in \u001b[0;36m_quad\u001b[0;34m(func, a, b, args, full_output, epsabs, epsrel, limit, points)\u001b[0m\n\u001b[1;32m    575\u001b[0m \u001b[38;5;28;01mif\u001b[39;00m points \u001b[38;5;129;01mis\u001b[39;00m \u001b[38;5;28;01mNone\u001b[39;00m:\n\u001b[1;32m    576\u001b[0m     \u001b[38;5;28;01mif\u001b[39;00m infbounds \u001b[38;5;241m==\u001b[39m \u001b[38;5;241m0\u001b[39m:\n\u001b[0;32m--> 577\u001b[0m         \u001b[38;5;28;01mreturn\u001b[39;00m \u001b[43m_quadpack\u001b[49m\u001b[38;5;241;43m.\u001b[39;49m\u001b[43m_qagse\u001b[49m\u001b[43m(\u001b[49m\u001b[43mfunc\u001b[49m\u001b[43m,\u001b[49m\u001b[43ma\u001b[49m\u001b[43m,\u001b[49m\u001b[43mb\u001b[49m\u001b[43m,\u001b[49m\u001b[43margs\u001b[49m\u001b[43m,\u001b[49m\u001b[43mfull_output\u001b[49m\u001b[43m,\u001b[49m\u001b[43mepsabs\u001b[49m\u001b[43m,\u001b[49m\u001b[43mepsrel\u001b[49m\u001b[43m,\u001b[49m\u001b[43mlimit\u001b[49m\u001b[43m)\u001b[49m\n\u001b[1;32m    578\u001b[0m     \u001b[38;5;28;01melse\u001b[39;00m:\n\u001b[1;32m    579\u001b[0m         \u001b[38;5;28;01mreturn\u001b[39;00m _quadpack\u001b[38;5;241m.\u001b[39m_qagie(func,bound,infbounds,args,full_output,epsabs,epsrel,limit)\n",
      "Cell \u001b[0;32mIn[7], line 6\u001b[0m, in \u001b[0;36mapproximate_qbb_polynomial.<locals>.qbb.<locals>.scattering_for_eachAngle\u001b[0;34m(theta)\u001b[0m\n\u001b[1;32m      4\u001b[0m cos \u001b[38;5;241m=\u001b[39m np\u001b[38;5;241m.\u001b[39mcos(np\u001b[38;5;241m.\u001b[39mradians(theta))\n\u001b[1;32m      5\u001b[0m sin \u001b[38;5;241m=\u001b[39m np\u001b[38;5;241m.\u001b[39msin(np\u001b[38;5;241m.\u001b[39mradians(theta))\n\u001b[0;32m----> 6\u001b[0m S1,S2 \u001b[38;5;241m=\u001b[39m \u001b[43mmiepython\u001b[49m\u001b[38;5;241;43m.\u001b[39;49m\u001b[43mmie_S1_S2\u001b[49m\u001b[43m(\u001b[49m\u001b[43mm\u001b[49m\u001b[43m,\u001b[49m\u001b[43mx\u001b[49m\u001b[43m,\u001b[49m\u001b[43mcos\u001b[49m\u001b[43m,\u001b[49m\u001b[43mnorm\u001b[49m\u001b[38;5;241;43m=\u001b[39;49m\u001b[38;5;124;43m\"\u001b[39;49m\u001b[38;5;124;43mwiscombe\u001b[39;49m\u001b[38;5;124;43m\"\u001b[39;49m\u001b[43m)\u001b[49m\n\u001b[1;32m      7\u001b[0m i1 \u001b[38;5;241m=\u001b[39m \u001b[38;5;28mabs\u001b[39m(S1) \u001b[38;5;241m*\u001b[39m\u001b[38;5;241m*\u001b[39m \u001b[38;5;241m2\u001b[39m\n\u001b[1;32m      8\u001b[0m i2 \u001b[38;5;241m=\u001b[39m \u001b[38;5;28mabs\u001b[39m(S2) \u001b[38;5;241m*\u001b[39m\u001b[38;5;241m*\u001b[39m \u001b[38;5;241m2\u001b[39m\n",
      "File \u001b[0;32m~/miniconda3/envs/jupyter/lib/python3.11/site-packages/miepython/miepython.py:637\u001b[0m, in \u001b[0;36mmie_S1_S2\u001b[0;34m(m, x, mu, norm)\u001b[0m\n\u001b[1;32m    635\u001b[0m \u001b[38;5;28;01mif\u001b[39;00m np\u001b[38;5;241m.\u001b[39misscalar(mu):\n\u001b[1;32m    636\u001b[0m     mu_array \u001b[38;5;241m=\u001b[39m np\u001b[38;5;241m.\u001b[39marray([mu], dtype\u001b[38;5;241m=\u001b[39m\u001b[38;5;28mfloat\u001b[39m)\n\u001b[0;32m--> 637\u001b[0m     s1, s2 \u001b[38;5;241m=\u001b[39m \u001b[43m_mie_S1_S2\u001b[49m\u001b[43m(\u001b[49m\u001b[43mm\u001b[49m\u001b[43m,\u001b[49m\u001b[43m \u001b[49m\u001b[43mx\u001b[49m\u001b[43m,\u001b[49m\u001b[43m \u001b[49m\u001b[43mmu_array\u001b[49m\u001b[43m,\u001b[49m\u001b[43m \u001b[49m\u001b[43mnorm_int\u001b[49m\u001b[43m)\u001b[49m\n\u001b[1;32m    638\u001b[0m     \u001b[38;5;28;01mreturn\u001b[39;00m s1[\u001b[38;5;241m0\u001b[39m], s2[\u001b[38;5;241m0\u001b[39m]\n\u001b[1;32m    640\u001b[0m \u001b[38;5;28;01mreturn\u001b[39;00m _mie_S1_S2(m, x, mu, norm_int)\n",
      "\u001b[0;31mSystemError\u001b[0m: CPUDispatcher(<function _mie_S1_S2 at 0x7f6e94ae8cc0>) returned a result with an exception set"
     ]
    }
   ],
   "source": [
    "Lambda=500\n",
    "j=-4\n",
    "reg = approximate_qbb_polynomial(m,order=40)\n",
    "bbp_SIOP(Lambda,reg,j,m,pho,dmin,dmax)"
   ]
  },
  {
   "cell_type": "markdown",
   "metadata": {},
   "source": [
    "#### 後方散乱のSIOPsの確認"
   ]
  },
  {
   "cell_type": "code",
   "execution_count": 18,
   "metadata": {},
   "outputs": [
    {
     "name": "stderr",
     "output_type": "stream",
     "text": [
      "/tmp/ipykernel_2356873/103396568.py:11: IntegrationWarning: The maximum number of subdivisions (50) has been achieved.\n",
      "  If increasing the limit yields no improvement it is advised to analyze \n",
      "  the integrand in order to determine the difficulties.  If the position of a \n",
      "  local difficulty can be determined (singularity, discontinuity) one will \n",
      "  probably gain from splitting up the interval and calling the integrator \n",
      "  on the subranges.  Perhaps a special-purpose integrator should be used.\n",
      "  integrated,err = integrate.quad(scattering_for_eachAngle,90,180)\n"
     ]
    }
   ],
   "source": [
    "wavelength = np.linspace(400,800,100)\n",
    "j = 4.0\n",
    "fig,ax = plt.subplots()\n",
    "#for m in (1.12,1.15,1.18,1.22):\n",
    "m = 1.12\n",
    "reg = approximate_qbb_polynomial(m,order=40)\n",
    "siop = np.zeros(len(wavelength))\n",
    "for i,Lambda in enumerate(wavelength):\n",
    "    siop[i] = bbp_SIOP(Lambda,reg,j,m,pho,dmin,dmax)\n",
    "ax.plot(wavelength,siop,label=m)\n",
    "#ax.set_ylim(0,1)\n",
    "ax.legend()\n",
    "plt.show()"
   ]
  },
  {
   "cell_type": "markdown",
   "metadata": {},
   "source": [
    "### Check Junge function(PSD)\n",
    "半径の単位をμmにすしてJunge functionを適用すると、Sławomir B. Woz´ niak and Dariusz Stramski(2004)のFig2(d)に一致。このことから、Junge functionにおいては単位をμmにしていると考えられる。"
   ]
  },
  {
   "cell_type": "code",
   "execution_count": 8,
   "metadata": {},
   "outputs": [
    {
     "data": {
      "image/png": "[encoded data removed]",
      "text/plain": [
       "<Figure size 640x480 with 1 Axes>"
      ]
     },
     "metadata": {},
     "output_type": "display_data"
    }
   ],
   "source": [
    "j = 4\n",
    "def PSD(D,j,K=1):\n",
    "    \"\"\"\n",
    "    particle size distribution(PSD) N(D) = K*D^-j\n",
    "    D: diameter of the particle\n",
    "    j: parameter1\n",
    "    K(optional): parameter2\n",
    "    \"\"\"\n",
    "    return K * (D) ** (-j)\n",
    "diameter = np.arange(0.01,1000,10)\n",
    "sizeDistribution = [PSD(D,j,K=1e4) for D in diameter]\n",
    "\n",
    "fig,ax = plt.subplots()\n",
    "ax.plot(diameter,sizeDistribution)\n",
    "ax.set_xscale('log')\n",
    "ax.set_yscale('log')\n",
    "ax.set_title(\"Junge Function (Sławomir B. Woz´ niak and Dariusz Stramski 2004 Fig 2d)\")\n",
    "plt.show()\n",
    "fig.savefig(\"../png/JungeFunction.png\")"
   ]
  },
  {
   "cell_type": "markdown",
   "metadata": {},
   "source": [
    "### 複素屈折率の虚部の値の確認\n",
    "λの単位をnmにしたところSławomir B. Woz´ niak and Dariusz Stramskiにおいて複素屈折率のオーダーが1e-4になった。これでちょうどよいと考えられる。Fig2cと一致している。"
   ]
  },
  {
   "cell_type": "code",
   "execution_count": 15,
   "metadata": {},
   "outputs": [
    {
     "data": {
      "image/png": "[encoded data removed]",
      "text/plain": [
       "<Figure size 640x480 with 1 Axes>"
      ]
     },
     "metadata": {},
     "output_type": "display_data"
    }
   ],
   "source": [
    "\n",
    "def n_prime(Lambda):\n",
    "    \"\"\"\n",
    "    particle size distribution(PSD) N(D) = K*D^-j\n",
    "    D: diameter of the particle\n",
    "    j: parameter1\n",
    "    K(optional): parameter2\n",
    "    \"\"\"\n",
    "    return 0.010658*np.exp(-0.007186*Lambda)\n",
    "Lambda = np.arange(400,800,1)\n",
    "complexRefractiveIndex = [n_prime(l) for l in Lambda]\n",
    "\n",
    "fig,ax = plt.subplots()\n",
    "ax.plot(Lambda,complexRefractiveIndex)\n",
    "#ax.set_xscale('log')\n",
    "#ax.set_yscale('log')\n",
    "ax.set_title(\"Imaginary part of RefractiveIndex\")\n",
    "plt.show()\n",
    "fig.savefig(\"../png/Refractive_index.png\")"
   ]
  },
  {
   "cell_type": "code",
   "execution_count": null,
   "metadata": {},
   "outputs": [],
   "source": [
    "### \n",
    "def derive_Tbb(bb_Ratio,sbb,cTSM):\n",
    "    \"\"\"\n",
    "    \n",
    "    \"\"\"\n",
    "    return bb_Ratio*sbb*cTSM\n",
    "\n",
    "def derive_Rrs_0minus(aw,bw,bbTSM):\n",
    "    return (bw+bbTSM)/(aw+bw+bbTSM)\n"
   ]
  },
  {
   "cell_type": "markdown",
   "metadata": {},
   "source": [
    "θv is the viewing zenith angle;\n",
    "θs is the sun zenith angle; r(θv) and r(θs) are reflectance\n",
    "over the water-atmosphere surface, which\n",
    "can be calculated by Fresnel formula;"
   ]
  },
  {
   "cell_type": "markdown",
   "metadata": {},
   "source": [
    "### input Rrs"
   ]
  },
  {
   "cell_type": "code",
   "execution_count": 30,
   "metadata": {},
   "outputs": [],
   "source": [
    "#just an example\n",
    "Rrs_MSupper = [0.00276869 ,0.00507279, 0.00603331, 0.00601718, 0.00283981, 0.0027035 ]\n",
    "MO = [0.00120341, 0.00207419, 0.00292378, 0.00305579, 0.00200239, 0.00197148]\n",
    "MS_lower = [0.03171935 ,0.04893871, 0.06325484 ,0.06439677 ,0.04043226 ,0.03886452]\n",
    "wavelength = [490,560,665,705,740,783]"
   ]
  },
  {
   "cell_type": "code",
   "execution_count": null,
   "metadata": {},
   "outputs": [],
   "source": [
    "def Fresnel(theta):\n",
    "    return"
   ]
  },
  {
   "cell_type": "code",
   "execution_count": null,
   "metadata": {},
   "outputs": [],
   "source": [
    "#def rrs(Rrs,Lambda,theta_s,theta_v,nw):\n",
    "#    rrs_Lambda = Rrs[Lambda] / ((1-Fresnel(theta_v))*(1-Fresnel(theta_s))/(nw**2))\n",
    "#    return rrs_Lambda"
   ]
  },
  {
   "cell_type": "code",
   "execution_count": 28,
   "metadata": {},
   "outputs": [],
   "source": [
    "#def bbp_SIOP(Lambda,j,m,pho,dmin,dmax):\n",
    "def deriveConcentration(Rrs,Lambda1,Lambda2,j,m,pho,theta_s,theta_v,\n",
    "                        dmin=dmin,dmax=dmax,aw=aw,bw=bw,):\n",
    "    \"\"\"\n",
    "    Return:\n",
    "    Concentration(mg/L) 1e6をかけることでg/m3からmg/Lに変更されているはず\n",
    "    \"\"\"\n",
    "    #first, derive SIOPs at each wavelength.\n",
    "    bbp_SIOP_lambda1 = bbp_SIOP(Lambda1,j,m,pho,dmin,dmax) #m2/g→\n",
    "    bbp_SIOP_lambda2 = bbp_SIOP(Lambda2,j,m,pho,dmin,dmax)\n",
    "    print(bbp_SIOP_lambda1)\n",
    "    #second, convert Rrs to rrs (subsurface water)\n",
    "    #水面で屈折するからRrsから水面直下の反射率に変える必要がある\n",
    "    rrs_lambda1 = Rrs[-2]#rrs(Rrs,Lambda1,theta_s,theta_v)\n",
    "    rrs_lambda2 = Rrs[-1]#rrs(Rrs,Lambda2,theta_s,theta_v)\n",
    "\n",
    "    #third, derive Concentration\n",
    "    concentration_numerator = rrs_lambda1 * aw[0] * bbp_SIOP_lambda2 - (rrs_lambda2 * aw[1] * bbp_SIOP_lambda1)\n",
    "    concentration_denominator = bbp_SIOP_lambda1 * bbp_SIOP_lambda2 * (rrs_lambda2-rrs_lambda1)\n",
    "    return 1e6*concentration_numerator/concentration_denominator #g/m3"
   ]
  },
  {
   "cell_type": "code",
   "execution_count": 31,
   "metadata": {},
   "outputs": [
    {
     "name": "stdout",
     "output_type": "stream",
     "text": [
      "WaveLength = 740,refractiveIndex=(1.161149825783972-5.227018138410898e-05j)\n"
     ]
    },
    {
     "name": "stderr",
     "output_type": "stream",
     "text": [
      "/tmp/ipykernel_979493/3384130097.py:40: IntegrationWarning: The maximum number of subdivisions (50) has been achieved.\n",
      "  If increasing the limit yields no improvement it is advised to analyze \n",
      "  the integrand in order to determine the difficulties.  If the position of a \n",
      "  local difficulty can be determined (singularity, discontinuity) one will \n",
      "  probably gain from splitting up the interval and calling the integrator \n",
      "  on the subranges.  Perhaps a special-purpose integrator should be used.\n",
      "  integrated_numerator,err_numerator = integrate.quad(numerator,dmin,dmax)\n"
     ]
    },
    {
     "name": "stdout",
     "output_type": "stream",
     "text": [
      "Cbb = 13.0963315461102\n",
      "Qbb_ave=16.6747672154701\n",
      "WaveLength = 783,refractiveIndex=(1.161149825783972-3.837583876959838e-05j)\n",
      "Cbb = 4.157312514546142\n",
      "Qbb_ave=5.293254693342524\n",
      "1.8875207440165532e-07\n",
      "WaveLength = 740,refractiveIndex=(1.161149825783972-5.227018138410898e-05j)\n",
      "Cbb = 0.03551669597899599\n",
      "Qbb_ave=2.912935346659107\n",
      "WaveLength = 783,refractiveIndex=(1.161149825783972-3.837583876959838e-05j)\n",
      "Cbb = 0.04405281960205186\n",
      "Qbb_ave=3.6130335832674927\n",
      "5.625965084363222e-08\n",
      "WaveLength = 740,refractiveIndex=(1.161149825783972-5.227018138410898e-05j)\n",
      "Cbb = 0.0004021961069982789\n",
      "Qbb_ave=0.5532171854403578\n",
      "WaveLength = 783,refractiveIndex=(1.161149825783972-3.837583876959838e-05j)\n",
      "Cbb = 0.000492460522333011\n",
      "Qbb_ave=0.6773750898258263\n",
      "6.654796501080499e-08\n",
      "WaveLength = 740,refractiveIndex=(1.161149825783972-5.227018138410898e-05j)\n",
      "Cbb = 8.454317290469525e-06\n",
      "Qbb_ave=0.03077476355707991\n",
      "WaveLength = 783,refractiveIndex=(1.161149825783972-3.837583876959838e-05j)\n",
      "Cbb = 8.468590479069155e-06\n",
      "Qbb_ave=0.03082671973393814\n",
      "8.196838499679737e-08\n"
     ]
    },
    {
     "data": {
      "image/png": "[encoded data removed]",
      "text/plain": [
       "<Figure size 640x480 with 1 Axes>"
      ]
     },
     "metadata": {},
     "output_type": "display_data"
    }
   ],
   "source": [
    "jseries = np.arange(2.0,4.0,0.6)\n",
    "concentration = np.zeros(len(jseries))\n",
    "\n",
    "fig,ax = plt.subplots()\n",
    "for i,j in enumerate(jseries):\n",
    "    concentration[i] = deriveConcentration(Rrs_MSupper,740,783,j,m,pho,0,0)\n",
    "\n",
    "ax.plot(jseries,concentration)\n",
    "plt.show()"
   ]
  },
  {
   "cell_type": "code",
   "execution_count": null,
   "metadata": {},
   "outputs": [],
   "source": [
    "\n",
    "#Rrs1[lambda,t],Rrs2,Rrs3\n",
    "#Q1[t],Q2,Q3\n",
    "for t in range(10):\n",
    "    C1 = deriveConcentration(Rrs,Lambda1,Lambda2,j1,m,pho,theta_s,theta_v,\n",
    "                            dmin=dmin,dmax=dmax,aw=aw,bw=bw,)\n",
    "    C2 = deriveConcentration(Rrs,Lambda1,Lambda2,j2,m,pho,theta_s,theta_v,\n",
    "                            dmin=dmin,dmax=dmax,aw=aw,bw=bw,)\n",
    "\n",
    "    #C3 = (C1 * Q1 + C2 * Q2)/Q3\n",
    "    #j3 = 3 # 後で変える\n",
    "\n",
    "    \n",
    "\n"
   ]
  }
 ],
 "metadata": {
  "kernelspec": {
   "display_name": "jupyter",
   "language": "python",
   "name": "python3"
  },
  "language_info": {
   "codemirror_mode": {
    "name": "ipython",
    "version": 3
   },
   "file_extension": ".py",
   "mimetype": "text/x-python",
   "name": "python",
   "nbconvert_exporter": "python",
   "pygments_lexer": "ipython3",
   "version": "3.11.4"
  }
 },
 "nbformat": 4,
 "nbformat_minor": 2
}
