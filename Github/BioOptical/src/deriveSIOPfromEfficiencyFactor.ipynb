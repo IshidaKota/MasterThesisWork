{
 "cells": [
  {
   "cell_type": "markdown",
   "metadata": {},
   "source": [
    "# Efficiency Factor からSIOPを求めるスクリプト"
   ]
  },
  {
   "cell_type": "code",
   "execution_count": 12,
   "metadata": {},
   "outputs": [],
   "source": [
    "from scipy import integrate\n",
    "import numpy as np\n",
    "import matplotlib.pyplot as plt\n",
    "#def Qsca(x,y,m):\n",
    "#    def integrate_scattering(theta):\n",
    "#        return (cal_abs(theta,x,y,m)[0] + cal_abs(theta,x,y,m)[0]) * np.sin(np.radians(theta)) #thetaのいち変数とするための関数。\n",
    "#\n",
    "#    integrated,err = integrate.quad(integrate_scattering,0,np.pi) #sympyの数値積分メソッドを使用。同時に推定誤差も返される。\n",
    "#    return integrated/(x**2)import "
   ]
  },
  {
   "cell_type": "code",
   "execution_count": 13,
   "metadata": {},
   "outputs": [
    {
     "name": "stdout",
     "output_type": "stream",
     "text": [
      "4.125000000000001\n"
     ]
    }
   ],
   "source": [
    "from EfficiencyFactor import Functions\n",
    "func = Functions()\n",
    "#test\n",
    "print(func.pi_n(3,30))"
   ]
  },
  {
   "cell_type": "code",
   "execution_count": 14,
   "metadata": {},
   "outputs": [],
   "source": [
    "def PSD(D,j,K=1):\n",
    "    \"\"\"\n",
    "    particle size distribution(PSD) N(D) = K*D^-j\n",
    "    D: diameter of the particle\n",
    "    j: parameter1\n",
    "    K(optional): parameter2\n",
    "    \"\"\"\n",
    "    return K * D ** (-j)"
   ]
  },
  {
   "cell_type": "code",
   "execution_count": 15,
   "metadata": {},
   "outputs": [],
   "source": [
    "#derive Qbb\n",
    "def Qbb(D,Lambda,m):\n",
    "    x = 2 * np.pi * D / Lambda\n",
    "    y = m * x\n",
    "    Q_backscattering = func.Qbsca(x,y,m)\n",
    "    return Q_backscattering\n"
   ]
  },
  {
   "cell_type": "code",
   "execution_count": 16,
   "metadata": {},
   "outputs": [
    {
     "data": {
      "text/plain": [
       "1.59690908384976"
      ]
     },
     "execution_count": 16,
     "metadata": {},
     "output_type": "execute_result"
    }
   ],
   "source": [
    "#test\n",
    "Qbb(1e-6,4e-7,1.025-1.001j)"
   ]
  },
  {
   "cell_type": "code",
   "execution_count": 17,
   "metadata": {},
   "outputs": [],
   "source": [
    "def Cbb(Lambda,m,j,dmin,dmax):\n",
    "    def numerator(D):\n",
    "        Q_bb = Qbb(D,Lambda,m)\n",
    "        ND = PSD(D,j)\n",
    "        return Q_bb * np.pi * D**2 * ND /4\n",
    "    \n",
    "    def denominator(D):\n",
    "        ND = PSD(D,j)\n",
    "        return ND\n",
    "    \n",
    "    integrated_numerator,err_numerator = integrate.quad(numerator,dmin,dmax)\n",
    "    intergrated_denominator,err_denominator = integrate.quad(denominator,dmin,dmax)\n",
    "    return integrated_numerator/intergrated_denominator\n",
    "        \n"
   ]
  },
  {
   "cell_type": "code",
   "execution_count": 18,
   "metadata": {},
   "outputs": [],
   "source": [
    "def G(j,dmin,dmax):\n",
    "    def numerator(D):\n",
    "        ND = PSD(D,j)\n",
    "        return ND * (D **2)\n",
    "    \n",
    "    def denominator(D):\n",
    "        ND = PSD(D,j)\n",
    "        return ND\n",
    "    \n",
    "    integrated_numerator,err_numerator = integrate.quad(numerator,dmin,dmax)\n",
    "    intergrated_denominator,err_denominator = integrate.quad(denominator,dmin,dmax)\n",
    "    return integrated_numerator/intergrated_denominator\n",
    "    "
   ]
  },
  {
   "cell_type": "code",
   "execution_count": 19,
   "metadata": {},
   "outputs": [],
   "source": [
    "def bbp_SIOP(Lambda,j,m,pho,dmin,dmax):\n",
    "    Qbb_ave = Cbb(Lambda,m,j,dmin,dmax)/G(j,dmin,dmax)\n",
    "\n",
    "    def numerator(D):\n",
    "        ND = PSD(D,j)\n",
    "        return ND * (D **2)\n",
    "    \n",
    "    def denominator(D):\n",
    "        ND = PSD(D,j)\n",
    "        return ND * (D **3)\n",
    "    \n",
    "    integrated_numerator,err_numerator = integrate.quad(numerator,dmin,dmax)\n",
    "    intergrated_denominator,err_denominator = integrate.quad(denominator,dmin,dmax) \n",
    "\n",
    "    return 3 * Qbb_ave * integrated_numerator / (2 * pho * intergrated_denominator)  \n",
    "    "
   ]
  },
  {
   "cell_type": "markdown",
   "metadata": {},
   "source": [
    "### plot"
   ]
  },
  {
   "cell_type": "markdown",
   "metadata": {},
   "source": [
    "allowing us to calculate a relative number of particles for each size class\n",
    "between 0.27 μm and 240 μm (i.e., Dmin and Dmax, respectively), \\\n",
    "Despite the differences in the mineralogy observed for the Madeira River between the rising\n",
    "water stage and the high water stage, the real part (n) of the refraction index varied within a\n",
    "very limited range, from 1.167 to 1.183\n",
    "n' (λ) = 0.015λ^-0.004"
   ]
  },
  {
   "cell_type": "code",
   "execution_count": 20,
   "metadata": {},
   "outputs": [
    {
     "data": {
      "image/png": "[encoded data removed]",
      "text/plain": [
       "<Figure size 640x480 with 1 Axes>"
      ]
     },
     "metadata": {},
     "output_type": "display_data"
    }
   ],
   "source": [
    "dmin = 0.27 * (1e-6)\n",
    "dmax = 240 * (1e-6)\n",
    "j = -4 # -4 is a case for open ocean\n",
    "pho = 2.5\n",
    "lambda_min = 4 #* (1e-9)\n",
    "lambda_max = 8 #* (1e-9)\n",
    "m = [complex(1.17, 0.015*((l*1e-7) ** -0.004))  for l in range(lambda_min,lambda_max)]\n",
    "Lambda = [l*(1e-7) for l  in range(lambda_min,lambda_max)]\n",
    "\n",
    "SIOP = [bbp_SIOP(l,j,m,pho,dmin,dmax) for l,m in zip(Lambda,m)]\n",
    "\n",
    "\n",
    "fig,ax = plt.subplots()\n",
    "ax.plot(Lambda,SIOP)\n",
    "plt.show()"
   ]
  },
  {
   "cell_type": "code",
   "execution_count": null,
   "metadata": {},
   "outputs": [],
   "source": []
  }
 ],
 "metadata": {
  "kernelspec": {
   "display_name": "jupyter",
   "language": "python",
   "name": "python3"
  },
  "language_info": {
   "codemirror_mode": {
    "name": "ipython",
    "version": 3
   },
   "file_extension": ".py",
   "mimetype": "text/x-python",
   "name": "python",
   "nbconvert_exporter": "python",
   "pygments_lexer": "ipython3",
   "version": "3.11.4"
  }
 },
 "nbformat": 4,
 "nbformat_minor": 2
}
