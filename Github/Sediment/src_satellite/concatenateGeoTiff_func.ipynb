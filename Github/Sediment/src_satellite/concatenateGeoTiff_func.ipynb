{
 "cells": [
  {
   "cell_type": "code",
   "execution_count": 19,
   "metadata": {},
   "outputs": [],
   "source": [
    "#import \n",
    "from osgeo import gdal\n",
    "import matplotlib.pyplot as plt\n",
    "import numpy as np\n",
    "from glob import glob\n",
    "import pandas as pd\n",
    "from datetime import datetime\n",
    "import warnings\n",
    "warnings.simplefilter('ignore')"
   ]
  },
  {
   "cell_type": "code",
   "execution_count": 17,
   "metadata": {},
   "outputs": [],
   "source": [
    "def plot(path_to_tiff):\n",
    "    \"\"\"\n",
    "    ## plot tiff image of band[0]\n",
    "    args:\n",
    "        path_to_tiff(str) : path to the tiff file exist\n",
    "    returns:\n",
    "        None (plot only)\n",
    "    \"\"\"\n",
    "    tiff = gdal.Open(path_to_tiff) #水域以外には0が入っている\n",
    "    tiff_array = tiff.ReadAsArray()\n",
    "    #print(f\"shape={tiff_array.shape}\",path_to_tiff)\n",
    "    plt.imshow(tiff_array[0,:,:])\n",
    "    plt.colorbar()\n",
    "    plt.suptitle(path_to_tiff[-9:-4])\n",
    "    #plt.savefig(f\"../png/tiff/{path_to_tiff[-9:-4]}.png\")"
   ]
  },
  {
   "cell_type": "code",
   "execution_count": 20,
   "metadata": {},
   "outputs": [],
   "source": [
    "def writeMergeShell(path_to_tiff_all,year = \"2019\",outputDirectory=\"../dat_satellite/merged\"):\n",
    "    \"\"\"\n",
    "    Write shell script that conduct merging of tiff images in the same day.\n",
    "    args:\n",
    "        path_to_tiff_all(list) : path to the tiff file you want to merge\n",
    "        year(optional) : forcusing year\n",
    "        outputDirectory : The directory you want to put your result\n",
    "    returns:\n",
    "        write file, the name is merge.sh \n",
    "    \"\"\"\n",
    "    # 日付の列の用意 mm-ddの形\n",
    "    date_array = pd.date_range(start=year + '-01-01', periods=365, freq='D')\n",
    "    date_array_month_and_day = [d.strftime(\"%m-%d\") for d in date_array]\n",
    "\n",
    "    # ファイル書き込みのスタート\n",
    "    with open(\"./merge.sh\",mode = \"w\") as f:\n",
    "\n",
    "        #sh スクリプトに絶対必要な文言\n",
    "        f.write(\"#!/bin/bash \\n\")\n",
    "        f.write(\". '/home/k-ishida/miniconda3/etc/profile.d/conda.sh'\\n\")\n",
    "        f.write(\"conda activate gdal \\n\")\n",
    "        #ディレクトリのクリア(gdal_merge.pyは上書きをしてくれないため)\n",
    "        f.write(f\"rm -rf {outputDirectory} /*\\n\")\n",
    "\n",
    "        #画像がある日付のみを抽出\n",
    "        for date in date_array_month_and_day:\n",
    "            matchImage = []\n",
    "            valueList = []\n",
    "            pathList = []\n",
    "\n",
    "            # その日付を含むpathを全て抽出\n",
    "            for path in path_to_tiff_all:\n",
    "                if \"2019-\"+date in path and \"(\" not in path:\n",
    "                    #範囲が異なる二枚を合成しないとバグるので、時刻のminとmaxの二枚だけ抽出する\n",
    "                    value = int(path[-6:-5]) + int(path[-9:-8]) * 60 \n",
    "                    valueList.append(value)\n",
    "                    pathList.append(path)\n",
    "            if valueList != []:\n",
    "                maximum_index = valueList.index(max(valueList))\n",
    "                minimum_index = valueList.index(min(valueList))\n",
    "                matchImage.append(pathList[maximum_index])\n",
    "                matchImage.append(pathList[minimum_index])\n",
    "\n",
    "                #書き出しの開始\n",
    "                outputFileName = f\"{outputDirectory}/S2L2A_SL_merged_\"+date+\".tif\"\n",
    "                f.write(f\"gdal_merge.py -o {outputFileName} -ot Float32 -co COMPRESS=LZW -n 0 {' '.join(map(str, matchImage))} \\n\")\n",
    "                f.write(f\"echo '{outputFileName} is created.'\\n\")\n",
    "\n",
    "    print(\"Finish writing merge.sh\")\n",
    "    #実行権限を付与\n",
    "    !chmod 755 merge.sh\n",
    "    print(\"start merging\")\n",
    "    return "
   ]
  },
  {
   "cell_type": "code",
   "execution_count": 35,
   "metadata": {},
   "outputs": [
    {
     "name": "stdout",
     "output_type": "stream",
     "text": [
      "Finish writing merge.sh\n",
      "start merging\n"
     ]
    }
   ],
   "source": [
    "path_to_tiff_all = glob(\"../dat_satellite/S2L2A_SL_2019_B8A/S2L2A_Mississippi_2019-*.tif\")\n",
    "writeMergeShell(path_to_tiff_all,outputDirectory=\"../dat_satellite/merged_wide\")"
   ]
  },
  {
   "cell_type": "code",
   "execution_count": 29,
   "metadata": {},
   "outputs": [
    {
     "name": "stdout",
     "output_type": "stream",
     "text": [
      "['../dat_satellite/merged/S2L2A_SL_merged_05-24.tif', '../dat_satellite/merged/S2L2A_SL_merged_08-09.tif', '../dat_satellite/merged/S2L2A_SL_merged_07-23.tif', '../dat_satellite/merged/S2L2A_SL_merged_07-18.tif', '../dat_satellite/merged/S2L2A_SL_merged_08-19.tif', '../dat_satellite/merged/S2L2A_SL_merged_06-28.tif', '../dat_satellite/merged/S2L2A_SL_merged_12-05.tif', '../dat_satellite/merged/S2L2A_SL_merged_10-13.tif', '../dat_satellite/merged/S2L2A_SL_merged_07-08.tif', '../dat_satellite/merged/S2L2A_SL_merged_07-10.tif', '../dat_satellite/merged/S2L2A_SL_merged_01-09.tif', '../dat_satellite/merged/S2L2A_SL_merged_04-21.tif', '../dat_satellite/merged/S2L2A_SL_merged_06-05.tif', '../dat_satellite/merged/S2L2A_SL_merged_04-26.tif', '../dat_satellite/merged/S2L2A_SL_merged_11-10.tif', '../dat_satellite/merged/S2L2A_SL_merged_09-26.tif', '../dat_satellite/merged/S2L2A_SL_merged_06-30.tif', '../dat_satellite/merged/S2L2A_SL_merged_07-25.tif', '../dat_satellite/merged/S2L2A_SL_merged_10-08.tif', '../dat_satellite/merged/S2L2A_SL_merged_07-13.tif', '../dat_satellite/merged/S2L2A_SL_merged_12-22.tif', '../dat_satellite/merged/S2L2A_SL_merged_10-01.tif', '../dat_satellite/merged/S2L2A_SL_merged_12-25.tif', '../dat_satellite/merged/S2L2A_SL_merged_12-10.tif', '../dat_satellite/merged/S2L2A_SL_merged_08-02.tif', '../dat_satellite/merged/S2L2A_SL_merged_07-28.tif', '../dat_satellite/merged/S2L2A_SL_merged_12-17.tif', '../dat_satellite/merged/S2L2A_SL_merged_01-29.tif', '../dat_satellite/merged/S2L2A_SL_merged_07-30.tif', '../dat_satellite/merged/S2L2A_SL_merged_05-14.tif', '../dat_satellite/merged/S2L2A_SL_merged_06-25.tif', '../dat_satellite/merged/S2L2A_SL_merged_04-06.tif', '../dat_satellite/merged/S2L2A_SL_merged_09-06.tif', '../dat_satellite/merged/S2L2A_SL_merged_08-14.tif', '../dat_satellite/merged/S2L2A_SL_merged_11-05.tif', '../dat_satellite/merged/S2L2A_SL_merged_11-02.tif', '../dat_satellite/merged/S2L2A_SL_merged_06-10.tif', '../dat_satellite/merged/S2L2A_SL_merged_09-18.tif', '../dat_satellite/merged/S2L2A_SL_merged_07-20.tif', '../dat_satellite/merged/S2L2A_SL_merged_04-16.tif', '../dat_satellite/merged/S2L2A_SL_merged_11-27.tif', '../dat_satellite/merged/S2L2A_SL_merged_09-11.tif', '../dat_satellite/merged/S2L2A_SL_merged_09-16.tif', '../dat_satellite/merged/S2L2A_SL_merged_08-04.tif', '../dat_satellite/merged/S2L2A_SL_merged_09-23.tif', '../dat_satellite/merged/S2L2A_SL_merged_11-15.tif', '../dat_satellite/merged/S2L2A_SL_merged_07-03.tif', '../dat_satellite/merged/S2L2A_SL_merged_08-29.tif', '../dat_satellite/merged/S2L2A_SL_merged_10-23.tif', '../dat_satellite/merged/S2L2A_SL_merged_12-07.tif', '../dat_satellite/merged/S2L2A_SL_merged_04-09.tif']\n"
     ]
    }
   ],
   "source": [
    "path_to_tiff = glob(\"../dat_satellite/merged/*.tif\")\n",
    "print(path_to_tiff)\n",
    "from concurrent import futures\n",
    "import os\n",
    "with futures.ProcessPoolExecutor(os.cpu_count()-2) as executor:\n",
    "    for path in path_to_tiff:\n",
    "        future = executor.submit(plot,path)"
   ]
  },
  {
   "cell_type": "code",
   "execution_count": 18,
   "metadata": {},
   "outputs": [
    {
     "data": {
      "image/png": "[encoded data removed]",
      "text/plain": [
       "<Figure size 640x480 with 2 Axes>"
      ]
     },
     "metadata": {},
     "output_type": "display_data"
    }
   ],
   "source": [
    "path_to_tiff = \"../dat_satellite/S2L2A_SL_2019_B8A/S2L2A_2019-01-09-05-02-41.tif\"\n",
    "plot(path_to_tiff)"
   ]
  },
  {
   "cell_type": "code",
   "execution_count": null,
   "metadata": {},
   "outputs": [],
   "source": []
  }
 ],
 "metadata": {
  "kernelspec": {
   "display_name": "jupyter",
   "language": "python",
   "name": "python3"
  },
  "language_info": {
   "codemirror_mode": {
    "name": "ipython",
    "version": 3
   },
   "file_extension": ".py",
   "mimetype": "text/x-python",
   "name": "python",
   "nbconvert_exporter": "python",
   "pygments_lexer": "ipython3",
   "version": "3.12.0"
  }
 },
 "nbformat": 4,
 "nbformat_minor": 2
}
