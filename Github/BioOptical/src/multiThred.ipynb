{
 "cells": [
  {
   "cell_type": "code",
   "execution_count": 1,
   "metadata": {},
   "outputs": [
    {
     "name": "stdout",
     "output_type": "stream",
     "text": [
      "index: 0 started.\n",
      "index: 1 started.\n",
      "index: 1 ended.\n",
      "index: 0 ended.\n",
      "[0, 0]\n",
      "completed.\n"
     ]
    }
   ],
   "source": [
    "\n",
    "\n",
    "\n",
    "def sample_func(index):\n",
    "    print('index: %s started.' % index)\n",
    "    sleep_seconds = random.randint(2, 4)\n",
    "    time.sleep(sleep_seconds)\n",
    "    print('index: %s ended.' % index)\n",
    "    return 0\n",
    "\n",
    "\n",
    "future_list = []\n",
    "with futures.ThreadPoolExecutor(max_workers=4) as executor:\n",
    "    for i in range(2):\n",
    "        future = executor.submit(sample_func, index=i)\n",
    "        future_list.append(future)\n",
    "    _ = futures.as_completed(fs=future_list)\n",
    "print([f.result() for f in future_list])\n",
    "print('completed.')"
   ]
  },
  {
   "cell_type": "code",
   "execution_count": 36,
   "metadata": {},
   "outputs": [],
   "source": [
    "from concurrent import futures\n",
    "import time\n",
    "import random\n",
    "import numpy as np\n",
    "import miepython\n",
    "from scipy import integrate\n",
    "import os\n",
    "import warnings\n",
    "warnings.simplefilter('ignore')"
   ]
  },
  {
   "cell_type": "code",
   "execution_count": 2,
   "metadata": {},
   "outputs": [],
   "source": [
    "def approximate_qbb_polynomial(lambda0,mreal,PSD=np.logspace(0.05*1e-6,500*1e-6,100)):\n",
    "    \"\"\"\n",
    "    lambda0 ; wavelength in nm\n",
    "    D : particle size in m\n",
    "    \"\"\"\n",
    "    def n(lambda0,coef1=0.010658,coef2=-0.007186):\n",
    "            return coef1*np.exp(coef2*lambda0)\n",
    "    \n",
    "    def qbb(D):\n",
    "\n",
    "        x = 2 * np.pi * D /(lambda0*1e-9)\n",
    "        m = mreal-n(lambda0)*1j\n",
    "\n",
    "        def scattering_for_eachAngle(theta):\n",
    "            cos = np.cos(np.radians(theta))\n",
    "            sin = np.sin(np.radians(theta))\n",
    "\n",
    "            S1,S2 = miepython.mie_S1_S2(m,x,cos,norm=\"wiscombe\")\n",
    "            i1 = abs(S1) ** 2\n",
    "            i2 = abs(S2) ** 2\n",
    "            I  = i1+i2\n",
    "            return I*sin\n",
    "        integrated,err = integrate.quad(scattering_for_eachAngle,90,180)\n",
    "\n",
    "        return integrated/(x**2)\n",
    "    \n",
    "    #start multiProcessing\n",
    "    future_list = []\n",
    "    with futures.ProcessPoolExecutor(os.cpu_count()) as executor:\n",
    "        for i in PSD:\n",
    "            future = executor.submit(qbb, D=i)\n",
    "            future_list.append(future)\n",
    "        _ = futures.as_completed(fs=future_list)\n",
    "\n",
    "\n",
    "    return [f.result() for f in future_list]"
   ]
  },
  {
   "cell_type": "code",
   "execution_count": null,
   "metadata": {},
   "outputs": [],
   "source": [
    "approximate_qbb_polynomial(400,1.12)"
   ]
  },
  {
   "cell_type": "code",
   "execution_count": 61,
   "metadata": {},
   "outputs": [],
   "source": [
    "result = [qbb(D) for D in np.linspace(0.05*1e-6,500*1e-6,10)]"
   ]
  },
  {
   "cell_type": "code",
   "execution_count": 109,
   "metadata": {},
   "outputs": [],
   "source": [
    "   \n",
    "def qbb(D,lambda0=np.linspace(400,800,4),mreal=1.12):\n",
    "    def n(lambda0,coef1=0.010658,coef2=-0.007186):\n",
    "        return coef1*np.exp(coef2*lambda0)\n",
    "    \n",
    "    result = []\n",
    "\n",
    "    for lambda0 in lambda0:\n",
    "        x = 2 * np.pi * D /(lambda0*1e-9)\n",
    "        m = mreal-n(lambda0)*1j\n",
    "\n",
    "        def scattering_for_eachAngle(theta):\n",
    "            cos = np.cos(np.radians(theta))\n",
    "            sin = np.sin(np.radians(theta))\n",
    "\n",
    "            S1,S2 = miepython.mie_S1_S2(m,x,cos,norm=\"wiscombe\")\n",
    "            i1 = abs(S1) ** 2\n",
    "            i2 = abs(S2) ** 2\n",
    "            I  = i1+i2\n",
    "            return I*sin\n",
    "\n",
    "        integrated,err = integrate.quad(scattering_for_eachAngle,90,180,limit=100)\n",
    "        result.append(integrated/(x**2))\n",
    "    return result\n",
    "\n",
    "def task(lambda0,PSD,mreal):\n",
    "    \"\"\"\n",
    "    1000;40.4s\n",
    "    \"\"\"\n",
    "    #print(f\"---------task : lambda {lambda0[0]} started-------------\")\n",
    "    length = PSD.shape[0]\n",
    "    print(length)\n",
    "    mreal = [mreal for i in range(length)]\n",
    "    lambda0 = [lambda0 for i in range(length)]\n",
    "    with futures.ProcessPoolExecutor(os.cpu_count()) as executor:\n",
    "        future_list = executor.map(qbb,PSD,lambda0,mreal)\n",
    "    #print(f\"---------task : lambda {lambda0} ended-------------\")\n",
    "    return future_list\n"
   ]
  },
  {
   "cell_type": "code",
   "execution_count": 122,
   "metadata": {},
   "outputs": [
    {
     "name": "stdout",
     "output_type": "stream",
     "text": [
      "1000\n"
     ]
    }
   ],
   "source": [
    "PSD = np.r_[np.linspace(0.05*1e-6,0.1*1e-6,200),np.linspace(0.1*1e-6,1*1e-6,300)\n",
    "      ,np.linspace(1*1e-6,10*1e-6,300),np.linspace(10*1e-6,100*1e-6,150)\n",
    "      ,np.linspace(100*1e-6,500*1e-6,50)]\n",
    "mreal = 1.12\n",
    "result = list(task(np.linspace(400,800,21),PSD,mreal))"
   ]
  },
  {
   "cell_type": "code",
   "execution_count": null,
   "metadata": {},
   "outputs": [],
   "source": [
    "np.r_[np.linspace(0.05*1e-6,1*1e-6,200),np.linspace(1*1e-6,10*1e-6,200)\n",
    "      ,np.linspace(10*1e-6,100*1e-6,200),np.linspace(100*1e-6,1000*1e-6,200)\n",
    "      ,np.linspace(1000*1e-6,10000*1e-6,200)]"
   ]
  },
  {
   "cell_type": "code",
   "execution_count": 88,
   "metadata": {},
   "outputs": [
    {
     "name": "stdout",
     "output_type": "stream",
     "text": [
      "[400. 420. 440. 460. 480. 500. 520. 540. 560. 580. 600. 620. 640. 660.\n",
      " 680. 700. 720. 740. 760. 780. 800.]\n"
     ]
    }
   ],
   "source": [
    "print(np.linspace(400,800,21))"
   ]
  },
  {
   "cell_type": "code",
   "execution_count": 112,
   "metadata": {},
   "outputs": [
    {
     "name": "stdout",
     "output_type": "stream",
     "text": [
      "[[0.12638853 0.01024459]\n",
      " [0.16897714 0.0145134 ]\n",
      " [0.21710635 0.01991068]\n",
      " ...\n",
      " [0.10625981 0.10631484]\n",
      " [0.10625981 0.10627843]\n",
      " [0.10625981 0.10630034]]\n"
     ]
    }
   ],
   "source": [
    "result = np.array(list(result))\n",
    "print(np.array(list(result)))\n",
    "#list[i][j] i:lambda(400,500,600,700...) j: D(PSD) #gyaku"
   ]
  },
  {
   "cell_type": "code",
   "execution_count": 119,
   "metadata": {},
   "outputs": [
    {
     "data": {
      "image/png": "[encoded data removed]",
      "text/plain": [
       "<Figure size 640x480 with 1 Axes>"
      ]
     },
     "metadata": {},
     "output_type": "display_data"
    }
   ],
   "source": [
    "lambda_400 = result[:,0]\n",
    "plot1d(PSD*1e6,lambda_400)"
   ]
  },
  {
   "cell_type": "code",
   "execution_count": 117,
   "metadata": {},
   "outputs": [],
   "source": [
    "import matplotlib.pyplot as plt\n",
    "def plot1d(x,array):\n",
    "    fig,ax = plt.subplots()\n",
    "    ax.plot(x,array)\n",
    "    ax.set_xscale(\"log\")\n",
    "    plt.show()"
   ]
  },
  {
   "cell_type": "code",
   "execution_count": null,
   "metadata": {},
   "outputs": [],
   "source": []
  }
 ],
 "metadata": {
  "kernelspec": {
   "display_name": "jupyter",
   "language": "python",
   "name": "python3"
  },
  "language_info": {
   "codemirror_mode": {
    "name": "ipython",
    "version": 3
   },
   "file_extension": ".py",
   "mimetype": "text/x-python",
   "name": "python",
   "nbconvert_exporter": "python",
   "pygments_lexer": "ipython3",
   "version": "3.11.4"
  }
 },
 "nbformat": 4,
 "nbformat_minor": 2
}
