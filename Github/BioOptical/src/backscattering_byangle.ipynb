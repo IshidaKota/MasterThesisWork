{
 "cells": [
  {
   "cell_type": "code",
   "execution_count": 1,
   "metadata": {},
   "outputs": [],
   "source": [
    "from scipy import integrate\n",
    "import numpy as np\n",
    "import matplotlib.pyplot as plt\n",
    "import miepython\n",
    "from concurrent import futures\n",
    "import os"
   ]
  },
  {
   "cell_type": "code",
   "execution_count": 4,
   "metadata": {},
   "outputs": [],
   "source": [
    "def n(lambda0,coef1=0.010658,coef2=-0.007186):\n",
    "    \"\"\"\n",
    "    args: \n",
    "        lambda (float)(nm) \n",
    "        coef1,coef2: parameter for exp\n",
    "    returns:\n",
    "        n 複素屈折率の虚部\n",
    "\n",
    "    \"\"\"\n",
    "    return coef1*np.exp(coef2*lambda0)\n",
    "\n",
    "result = []\n",
    "\n",
    "#for lambda0 in lambda0:\n",
    "\n",
    "\n",
    "def scattering_for_eachAngle(theta):\n",
    "    cos = np.cos(np.radians(theta))\n",
    "    sin = np.sin(np.radians(theta))\n",
    "\n",
    "    S1,S2 = miepython.mie_S1_S2(m,x,cos,norm=\"wiscombe\")\n",
    "    i1 = abs(S1) ** 2\n",
    "    i2 = abs(S2) ** 2\n",
    "    I  = i1+i2\n",
    "    return I*sin"
   ]
  },
  {
   "cell_type": "code",
   "execution_count": 8,
   "metadata": {},
   "outputs": [],
   "source": [
    "x = 1000#2 * np.pi * D /(lambda0*1e-9\n",
    "mreal = 1.12\n",
    "lambda0 = 400\n",
    "m = mreal-n(lambda0)*1j"
   ]
  },
  {
   "cell_type": "code",
   "execution_count": 12,
   "metadata": {},
   "outputs": [
    {
     "data": {
      "text/plain": [
       "[<matplotlib.lines.Line2D at 0x7f8f8d073bd0>]"
      ]
     },
     "execution_count": 12,
     "metadata": {},
     "output_type": "execute_result"
    },
    {
     "data": {
      "image/png": "[encoded data removed]",
      "text/plain": [
       "<Figure size 640x480 with 1 Axes>"
      ]
     },
     "metadata": {},
     "output_type": "display_data"
    }
   ],
   "source": [
    "angle = np.linspace(90,180,10000)\n",
    "Qbb = [scattering_for_eachAngle(theta)/(x**2) for theta in angle]\n",
    "\n",
    "fig,ax = plt.subplots()\n",
    "ax.plot(angle,Qbb)"
   ]
  },
  {
   "cell_type": "code",
   "execution_count": 19,
   "metadata": {},
   "outputs": [],
   "source": [
    "def qbb(D,lambda0=np.linspace(400,800,4),mreal=1.12):\n",
    "\n",
    "    def n(lambda0,coef1=0.010658,coef2=-0.007186):\n",
    "        \"\"\"\n",
    "        args: \n",
    "            lambda (float)(nm) \n",
    "            coef1,coef2: parameter for exp\n",
    "        returns:\n",
    "            n 複素屈折率の虚部\n",
    "\n",
    "        \"\"\"\n",
    "        return coef1*np.exp(coef2*lambda0)\n",
    "    \n",
    "    result = []\n",
    "    \n",
    "    #for lambda0 in lambda0:\n",
    "    x = 2 * np.pi * D /(lambda0*1e-9)\n",
    "    m = mreal-n(lambda0)*1j\n",
    "\n",
    "    def scattering_for_eachAngle(theta):\n",
    "        cos = np.cos(theta)\n",
    "        sin = np.sin(theta)\n",
    "\n",
    "        S1,S2 = miepython.mie_S1_S2(m,x,cos,norm=\"wiscombe\")\n",
    "        i1 = abs(S1) ** 2\n",
    "        i2 = abs(S2) ** 2\n",
    "        I  = i1+i2\n",
    "        return I*sin\n",
    "    \n",
    "    integrated,err = integrate.quad(scattering_for_eachAngle,np.pi/2,np.pi,limit=100)\n",
    "        #result.append(integrated/(x**2))\n",
    "    result = integrated/(x**2)\n",
    "    return result"
   ]
  },
  {
   "cell_type": "code",
   "execution_count": 20,
   "metadata": {},
   "outputs": [
    {
     "data": {
      "text/plain": [
       "0.001854583445048699"
      ]
     },
     "execution_count": 20,
     "metadata": {},
     "output_type": "execute_result"
    }
   ],
   "source": [
    "qbb(1e-3,lambda0)"
   ]
  },
  {
   "cell_type": "code",
   "execution_count": 18,
   "metadata": {},
   "outputs": [
    {
     "data": {
      "text/plain": [
       "6.123233995736766e-17"
      ]
     },
     "execution_count": 18,
     "metadata": {},
     "output_type": "execute_result"
    }
   ],
   "source": [
    "np.cos(np.pi/2)"
   ]
  },
  {
   "cell_type": "code",
   "execution_count": null,
   "metadata": {},
   "outputs": [],
   "source": []
  }
 ],
 "metadata": {
  "kernelspec": {
   "display_name": "jupyter",
   "language": "python",
   "name": "python3"
  },
  "language_info": {
   "codemirror_mode": {
    "name": "ipython",
    "version": 3
   },
   "file_extension": ".py",
   "mimetype": "text/x-python",
   "name": "python",
   "nbconvert_exporter": "python",
   "pygments_lexer": "ipython3",
   "version": "3.11.4"
  }
 },
 "nbformat": 4,
 "nbformat_minor": 2
}
